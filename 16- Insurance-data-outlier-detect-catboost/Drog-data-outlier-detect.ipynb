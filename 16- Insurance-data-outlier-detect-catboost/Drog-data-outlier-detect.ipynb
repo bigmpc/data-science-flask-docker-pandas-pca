{
 "cells": [
  {
   "cell_type": "markdown",
   "metadata": {},
   "source": [
    "\n",
    "<div dir=\"rtl\">\n",
    "<h2> کتابخانه های مورد نیاز\n",
    "</h2>\n",
    "</div>"
   ]
  },
  {
   "cell_type": "code",
   "execution_count": 1,
   "metadata": {},
   "outputs": [],
   "source": [
    "import pandas as pd\n",
    "import numpy as np\n",
    "import matplotlib.pyplot as plt\n",
    "\n"
   ]
  },
  {
   "cell_type": "markdown",
   "metadata": {},
   "source": [
    "<div dir=\"rtl\">\n",
    "<h2> فراخوانی دیتاست\n",
    "</h2>\n",
    "</div>"
   ]
  },
  {
   "cell_type": "code",
   "execution_count": 2,
   "metadata": {},
   "outputs": [
    {
     "name": "stdout",
     "output_type": "stream",
     "text": [
      "\n",
      "data size : (800, 6061)\n",
      "\n",
      "max one line len : 6061\n",
      "\n",
      "number of file line : 800\n",
      "\n"
     ]
    }
   ],
   "source": [
    "file_path = 'dorothea_train.data'\n",
    "max_len = 0\n",
    "# number of file lines\n",
    "num_lines = sum(1 for line in open(file_path))\n",
    "# find max dept size (-1 , max_len)\n",
    "with open(file_path) as myfile:\n",
    "     for j in range(num_lines):\n",
    "        new_len = np.fromstring(myfile.readline() , sep=' ',dtype=int).shape[0]\n",
    "        if new_len >= max_len:\n",
    "            max_len = new_len\n",
    "   \n",
    "        \n",
    "# create zero array\n",
    "X = np.zeros((num_lines,max_len),  dtype=int)\n",
    "# open file and put one by one into X array\n",
    "\n",
    "with open('dorothea_train.data') as myfile:\n",
    "\n",
    "    j = 0\n",
    "    for j in range(num_lines):\n",
    "        tmp_np = np.fromstring(myfile.readline() , sep=' ',dtype=int)\n",
    "        for i in range(len(tmp_np)):\n",
    "            X[j][i] = tmp_np[i]\n",
    "\n",
    "        \n",
    "\n",
    "print(\n",
    "\"\"\"\n",
    "data size : {}\n",
    "\n",
    "max one line len : {}\n",
    "\n",
    "number of file line : {}\n",
    "\"\"\"\n",
    ".format(X.shape , max_len , num_lines))"
   ]
  },
  {
   "cell_type": "code",
   "execution_count": 21,
   "metadata": {},
   "outputs": [
    {
     "data": {
      "text/html": [
       "<div>\n",
       "<style scoped>\n",
       "    .dataframe tbody tr th:only-of-type {\n",
       "        vertical-align: middle;\n",
       "    }\n",
       "\n",
       "    .dataframe tbody tr th {\n",
       "        vertical-align: top;\n",
       "    }\n",
       "\n",
       "    .dataframe thead th {\n",
       "        text-align: right;\n",
       "    }\n",
       "</style>\n",
       "<table border=\"1\" class=\"dataframe\">\n",
       "  <thead>\n",
       "    <tr style=\"text-align: right;\">\n",
       "      <th></th>\n",
       "      <th>0</th>\n",
       "      <th>1</th>\n",
       "      <th>2</th>\n",
       "      <th>3</th>\n",
       "      <th>4</th>\n",
       "      <th>5</th>\n",
       "      <th>6</th>\n",
       "      <th>7</th>\n",
       "      <th>8</th>\n",
       "      <th>9</th>\n",
       "      <th>...</th>\n",
       "      <th>6051</th>\n",
       "      <th>6052</th>\n",
       "      <th>6053</th>\n",
       "      <th>6054</th>\n",
       "      <th>6055</th>\n",
       "      <th>6056</th>\n",
       "      <th>6057</th>\n",
       "      <th>6058</th>\n",
       "      <th>6059</th>\n",
       "      <th>6060</th>\n",
       "    </tr>\n",
       "  </thead>\n",
       "  <tbody>\n",
       "    <tr>\n",
       "      <th>0</th>\n",
       "      <td>191</td>\n",
       "      <td>367</td>\n",
       "      <td>614</td>\n",
       "      <td>634</td>\n",
       "      <td>711</td>\n",
       "      <td>1202</td>\n",
       "      <td>1220</td>\n",
       "      <td>1311</td>\n",
       "      <td>1472</td>\n",
       "      <td>1730</td>\n",
       "      <td>...</td>\n",
       "      <td>0</td>\n",
       "      <td>0</td>\n",
       "      <td>0</td>\n",
       "      <td>0</td>\n",
       "      <td>0</td>\n",
       "      <td>0</td>\n",
       "      <td>0</td>\n",
       "      <td>0</td>\n",
       "      <td>0</td>\n",
       "      <td>0</td>\n",
       "    </tr>\n",
       "    <tr>\n",
       "      <th>1</th>\n",
       "      <td>118</td>\n",
       "      <td>307</td>\n",
       "      <td>367</td>\n",
       "      <td>478</td>\n",
       "      <td>505</td>\n",
       "      <td>512</td>\n",
       "      <td>807</td>\n",
       "      <td>878</td>\n",
       "      <td>939</td>\n",
       "      <td>1024</td>\n",
       "      <td>...</td>\n",
       "      <td>0</td>\n",
       "      <td>0</td>\n",
       "      <td>0</td>\n",
       "      <td>0</td>\n",
       "      <td>0</td>\n",
       "      <td>0</td>\n",
       "      <td>0</td>\n",
       "      <td>0</td>\n",
       "      <td>0</td>\n",
       "      <td>0</td>\n",
       "    </tr>\n",
       "    <tr>\n",
       "      <th>2</th>\n",
       "      <td>10</td>\n",
       "      <td>184</td>\n",
       "      <td>284</td>\n",
       "      <td>297</td>\n",
       "      <td>320</td>\n",
       "      <td>375</td>\n",
       "      <td>445</td>\n",
       "      <td>588</td>\n",
       "      <td>658</td>\n",
       "      <td>1108</td>\n",
       "      <td>...</td>\n",
       "      <td>0</td>\n",
       "      <td>0</td>\n",
       "      <td>0</td>\n",
       "      <td>0</td>\n",
       "      <td>0</td>\n",
       "      <td>0</td>\n",
       "      <td>0</td>\n",
       "      <td>0</td>\n",
       "      <td>0</td>\n",
       "      <td>0</td>\n",
       "    </tr>\n",
       "    <tr>\n",
       "      <th>3</th>\n",
       "      <td>87</td>\n",
       "      <td>149</td>\n",
       "      <td>433</td>\n",
       "      <td>704</td>\n",
       "      <td>711</td>\n",
       "      <td>892</td>\n",
       "      <td>988</td>\n",
       "      <td>1056</td>\n",
       "      <td>1070</td>\n",
       "      <td>1234</td>\n",
       "      <td>...</td>\n",
       "      <td>0</td>\n",
       "      <td>0</td>\n",
       "      <td>0</td>\n",
       "      <td>0</td>\n",
       "      <td>0</td>\n",
       "      <td>0</td>\n",
       "      <td>0</td>\n",
       "      <td>0</td>\n",
       "      <td>0</td>\n",
       "      <td>0</td>\n",
       "    </tr>\n",
       "    <tr>\n",
       "      <th>4</th>\n",
       "      <td>84</td>\n",
       "      <td>118</td>\n",
       "      <td>279</td>\n",
       "      <td>316</td>\n",
       "      <td>435</td>\n",
       "      <td>505</td>\n",
       "      <td>584</td>\n",
       "      <td>629</td>\n",
       "      <td>849</td>\n",
       "      <td>1029</td>\n",
       "      <td>...</td>\n",
       "      <td>0</td>\n",
       "      <td>0</td>\n",
       "      <td>0</td>\n",
       "      <td>0</td>\n",
       "      <td>0</td>\n",
       "      <td>0</td>\n",
       "      <td>0</td>\n",
       "      <td>0</td>\n",
       "      <td>0</td>\n",
       "      <td>0</td>\n",
       "    </tr>\n",
       "    <tr>\n",
       "      <th>...</th>\n",
       "      <td>...</td>\n",
       "      <td>...</td>\n",
       "      <td>...</td>\n",
       "      <td>...</td>\n",
       "      <td>...</td>\n",
       "      <td>...</td>\n",
       "      <td>...</td>\n",
       "      <td>...</td>\n",
       "      <td>...</td>\n",
       "      <td>...</td>\n",
       "      <td>...</td>\n",
       "      <td>...</td>\n",
       "      <td>...</td>\n",
       "      <td>...</td>\n",
       "      <td>...</td>\n",
       "      <td>...</td>\n",
       "      <td>...</td>\n",
       "      <td>...</td>\n",
       "      <td>...</td>\n",
       "      <td>...</td>\n",
       "      <td>...</td>\n",
       "    </tr>\n",
       "    <tr>\n",
       "      <th>795</th>\n",
       "      <td>374</td>\n",
       "      <td>1031</td>\n",
       "      <td>1271</td>\n",
       "      <td>1312</td>\n",
       "      <td>1452</td>\n",
       "      <td>1517</td>\n",
       "      <td>1628</td>\n",
       "      <td>1668</td>\n",
       "      <td>1898</td>\n",
       "      <td>1958</td>\n",
       "      <td>...</td>\n",
       "      <td>0</td>\n",
       "      <td>0</td>\n",
       "      <td>0</td>\n",
       "      <td>0</td>\n",
       "      <td>0</td>\n",
       "      <td>0</td>\n",
       "      <td>0</td>\n",
       "      <td>0</td>\n",
       "      <td>0</td>\n",
       "      <td>0</td>\n",
       "    </tr>\n",
       "    <tr>\n",
       "      <th>796</th>\n",
       "      <td>106</td>\n",
       "      <td>465</td>\n",
       "      <td>1095</td>\n",
       "      <td>1119</td>\n",
       "      <td>1176</td>\n",
       "      <td>1658</td>\n",
       "      <td>1669</td>\n",
       "      <td>1679</td>\n",
       "      <td>1813</td>\n",
       "      <td>1889</td>\n",
       "      <td>...</td>\n",
       "      <td>0</td>\n",
       "      <td>0</td>\n",
       "      <td>0</td>\n",
       "      <td>0</td>\n",
       "      <td>0</td>\n",
       "      <td>0</td>\n",
       "      <td>0</td>\n",
       "      <td>0</td>\n",
       "      <td>0</td>\n",
       "      <td>0</td>\n",
       "    </tr>\n",
       "    <tr>\n",
       "      <th>797</th>\n",
       "      <td>140</td>\n",
       "      <td>273</td>\n",
       "      <td>303</td>\n",
       "      <td>354</td>\n",
       "      <td>383</td>\n",
       "      <td>436</td>\n",
       "      <td>619</td>\n",
       "      <td>640</td>\n",
       "      <td>798</td>\n",
       "      <td>866</td>\n",
       "      <td>...</td>\n",
       "      <td>0</td>\n",
       "      <td>0</td>\n",
       "      <td>0</td>\n",
       "      <td>0</td>\n",
       "      <td>0</td>\n",
       "      <td>0</td>\n",
       "      <td>0</td>\n",
       "      <td>0</td>\n",
       "      <td>0</td>\n",
       "      <td>0</td>\n",
       "    </tr>\n",
       "    <tr>\n",
       "      <th>798</th>\n",
       "      <td>126</td>\n",
       "      <td>150</td>\n",
       "      <td>354</td>\n",
       "      <td>377</td>\n",
       "      <td>379</td>\n",
       "      <td>702</td>\n",
       "      <td>764</td>\n",
       "      <td>1099</td>\n",
       "      <td>1110</td>\n",
       "      <td>1220</td>\n",
       "      <td>...</td>\n",
       "      <td>0</td>\n",
       "      <td>0</td>\n",
       "      <td>0</td>\n",
       "      <td>0</td>\n",
       "      <td>0</td>\n",
       "      <td>0</td>\n",
       "      <td>0</td>\n",
       "      <td>0</td>\n",
       "      <td>0</td>\n",
       "      <td>0</td>\n",
       "    </tr>\n",
       "    <tr>\n",
       "      <th>799</th>\n",
       "      <td>190</td>\n",
       "      <td>191</td>\n",
       "      <td>354</td>\n",
       "      <td>412</td>\n",
       "      <td>425</td>\n",
       "      <td>433</td>\n",
       "      <td>783</td>\n",
       "      <td>915</td>\n",
       "      <td>1070</td>\n",
       "      <td>1642</td>\n",
       "      <td>...</td>\n",
       "      <td>0</td>\n",
       "      <td>0</td>\n",
       "      <td>0</td>\n",
       "      <td>0</td>\n",
       "      <td>0</td>\n",
       "      <td>0</td>\n",
       "      <td>0</td>\n",
       "      <td>0</td>\n",
       "      <td>0</td>\n",
       "      <td>0</td>\n",
       "    </tr>\n",
       "  </tbody>\n",
       "</table>\n",
       "<p>800 rows × 6061 columns</p>\n",
       "</div>"
      ],
      "text/plain": [
       "     0     1     2     3     4     5     6     7     8     9     ...  6051  \\\n",
       "0     191   367   614   634   711  1202  1220  1311  1472  1730  ...     0   \n",
       "1     118   307   367   478   505   512   807   878   939  1024  ...     0   \n",
       "2      10   184   284   297   320   375   445   588   658  1108  ...     0   \n",
       "3      87   149   433   704   711   892   988  1056  1070  1234  ...     0   \n",
       "4      84   118   279   316   435   505   584   629   849  1029  ...     0   \n",
       "..    ...   ...   ...   ...   ...   ...   ...   ...   ...   ...  ...   ...   \n",
       "795   374  1031  1271  1312  1452  1517  1628  1668  1898  1958  ...     0   \n",
       "796   106   465  1095  1119  1176  1658  1669  1679  1813  1889  ...     0   \n",
       "797   140   273   303   354   383   436   619   640   798   866  ...     0   \n",
       "798   126   150   354   377   379   702   764  1099  1110  1220  ...     0   \n",
       "799   190   191   354   412   425   433   783   915  1070  1642  ...     0   \n",
       "\n",
       "     6052  6053  6054  6055  6056  6057  6058  6059  6060  \n",
       "0       0     0     0     0     0     0     0     0     0  \n",
       "1       0     0     0     0     0     0     0     0     0  \n",
       "2       0     0     0     0     0     0     0     0     0  \n",
       "3       0     0     0     0     0     0     0     0     0  \n",
       "4       0     0     0     0     0     0     0     0     0  \n",
       "..    ...   ...   ...   ...   ...   ...   ...   ...   ...  \n",
       "795     0     0     0     0     0     0     0     0     0  \n",
       "796     0     0     0     0     0     0     0     0     0  \n",
       "797     0     0     0     0     0     0     0     0     0  \n",
       "798     0     0     0     0     0     0     0     0     0  \n",
       "799     0     0     0     0     0     0     0     0     0  \n",
       "\n",
       "[800 rows x 6061 columns]"
      ]
     },
     "execution_count": 21,
     "metadata": {},
     "output_type": "execute_result"
    }
   ],
   "source": [
    "#show as df\n",
    "pd.DataFrame(X)"
   ]
  },
  {
   "cell_type": "markdown",
   "metadata": {},
   "source": [
    "<div dir=\"rtl\">\n",
    "<h2> پیدا کردن ستون های داده های پرت و حذف انها\n",
    "</h2>\n",
    "</div>"
   ]
  },
  {
   "cell_type": "code",
   "execution_count": 16,
   "metadata": {},
   "outputs": [],
   "source": [
    "from pyod.models.knn import KNN\n",
    "\n",
    "# Outlier Detection With simple KNN\n",
    "clf = KNN()\n",
    "clf.fit(X)\n",
    "y_train_scores = clf.decision_scores_  \n",
    "# 0 ok , 1 od\n",
    "_train_pred = clf.labels_\n",
    "\n",
    "# check wich index must be keep\n",
    "keep_index = []\n",
    "for i in range(len(X)):\n",
    "    if _train_pred[i] == 0:\n",
    "        keep_index.append(i)\n"
   ]
  },
  {
   "cell_type": "code",
   "execution_count": 26,
   "metadata": {},
   "outputs": [],
   "source": [
    "# put x in new variable\n",
    "Y = np.loadtxt('dorothea_train.labels')\n",
    "new_x_odd = X[keep_index]\n",
    "nex_y_odd = Y[keep_index]"
   ]
  },
  {
   "cell_type": "markdown",
   "metadata": {},
   "source": [
    "<div dir=\"rtl\">\n",
    "<h2> طبقه بندی داده ها\n",
    "</h2>\n",
    "</div>"
   ]
  },
  {
   "cell_type": "code",
   "execution_count": 27,
   "metadata": {},
   "outputs": [],
   "source": [
    "from sklearn.model_selection import train_test_split\n",
    "X_train, X_test, y_train, y_test = train_test_split(  X, Y, test_size=0.33, random_state=42)\n",
    "import model\n",
    "\n",
    "models = model.export(X_train,y_train )\n"
   ]
  },
  {
   "cell_type": "code",
   "execution_count": 29,
   "metadata": {},
   "outputs": [
    {
     "name": "stdout",
     "output_type": "stream",
     "text": [
      "\n",
      "        model : svc_clf\n",
      "        \n",
      " - svc_clf: training accuracy=100.00%, test accuracy=90.15%\n"
     ]
    },
    {
     "data": {
      "image/png": "[encoded data removed]",
      "text/plain": [
       "<Figure size 432x288 with 2 Axes>"
      ]
     },
     "metadata": {
      "needs_background": "light"
     },
     "output_type": "display_data"
    },
    {
     "name": "stdout",
     "output_type": "stream",
     "text": [
      "Confusion matrix, without normalization\n",
      "[[238   0]\n",
      " [ 26   0]]\n"
     ]
    },
    {
     "data": {
      "image/png": "[encoded data removed]",
      "text/plain": [
       "<Figure size 432x288 with 1 Axes>"
      ]
     },
     "metadata": {
      "needs_background": "light"
     },
     "output_type": "display_data"
    },
    {
     "name": "stdout",
     "output_type": "stream",
     "text": [
      "\n",
      "        model : knn_clf\n",
      "        \n",
      " - knn_clf: training accuracy=90.30%, test accuracy=90.15%\n"
     ]
    },
    {
     "data": {
      "image/png": "[encoded data removed]",
      "text/plain": [
       "<Figure size 432x288 with 2 Axes>"
      ]
     },
     "metadata": {
      "needs_background": "light"
     },
     "output_type": "display_data"
    },
    {
     "name": "stdout",
     "output_type": "stream",
     "text": [
      "Confusion matrix, without normalization\n",
      "[[238   0]\n",
      " [ 26   0]]\n"
     ]
    },
    {
     "data": {
      "image/png": "[encoded data removed]",
      "text/plain": [
       "<Figure size 432x288 with 1 Axes>"
      ]
     },
     "metadata": {
      "needs_background": "light"
     },
     "output_type": "display_data"
    },
    {
     "name": "stdout",
     "output_type": "stream",
     "text": [
      "\n",
      "        model : tree_clf\n",
      "        \n",
      " - tree_clf: training accuracy=100.00%, test accuracy=82.58%\n"
     ]
    },
    {
     "data": {
      "image/png": "[encoded data removed]",
      "text/plain": [
       "<Figure size 432x288 with 2 Axes>"
      ]
     },
     "metadata": {
      "needs_background": "light"
     },
     "output_type": "display_data"
    },
    {
     "name": "stdout",
     "output_type": "stream",
     "text": [
      "Confusion matrix, without normalization\n",
      "[[216  22]\n",
      " [ 24   2]]\n"
     ]
    },
    {
     "data": {
      "image/png": "[encoded data removed]",
      "text/plain": [
       "<Figure size 432x288 with 1 Axes>"
      ]
     },
     "metadata": {
      "needs_background": "light"
     },
     "output_type": "display_data"
    },
    {
     "name": "stdout",
     "output_type": "stream",
     "text": [
      "\n",
      "        model : random_forest_clf\n",
      "        \n",
      " - random_forest_clf: training accuracy=100.00%, test accuracy=88.64%\n"
     ]
    },
    {
     "data": {
      "image/png": "[encoded data removed]",
      "text/plain": [
       "<Figure size 432x288 with 2 Axes>"
      ]
     },
     "metadata": {
      "needs_background": "light"
     },
     "output_type": "display_data"
    },
    {
     "name": "stdout",
     "output_type": "stream",
     "text": [
      "Confusion matrix, without normalization\n",
      "[[234   4]\n",
      " [ 26   0]]\n"
     ]
    },
    {
     "data": {
      "image/png": "[encoded data removed]",
      "text/plain": [
       "<Figure size 432x288 with 1 Axes>"
      ]
     },
     "metadata": {
      "needs_background": "light"
     },
     "output_type": "display_data"
    }
   ],
   "source": [
    "lables = [1,-1]\n",
    "model.status(models , X_train,y_train ,X_test,y_test ,lables )"
   ]
  }
 ],
 "metadata": {
  "kernelspec": {
   "display_name": "Python 3",
   "language": "python",
   "name": "python3"
  },
  "language_info": {
   "codemirror_mode": {
    "name": "ipython",
    "version": 3
   },
   "file_extension": ".py",
   "mimetype": "text/x-python",
   "name": "python",
   "nbconvert_exporter": "python",
   "pygments_lexer": "ipython3",
   "version": "3.6.9"
  }
 },
 "nbformat": 4,
 "nbformat_minor": 2
}
